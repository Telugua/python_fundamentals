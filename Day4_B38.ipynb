{
 "cells": [
  {
   "cell_type": "code",
   "execution_count": 2,
   "metadata": {},
   "outputs": [
    {
     "data": {
      "text/plain": [
       "list"
      ]
     },
     "execution_count": 2,
     "metadata": {},
     "output_type": "execute_result"
    }
   ],
   "source": [
    "Hobbies = ['Watching_Movies','Playing_cricket','learning_new_things','making_time_for_close_ones']\n",
    "type (Hobbies)"
   ]
  },
  {
   "cell_type": "code",
   "execution_count": 3,
   "metadata": {},
   "outputs": [
    {
     "data": {
      "text/plain": [
       "'Playing_cricket'"
      ]
     },
     "execution_count": 3,
     "metadata": {},
     "output_type": "execute_result"
    }
   ],
   "source": [
    "Hobbies[1]"
   ]
  },
  {
   "cell_type": "code",
   "execution_count": 4,
   "metadata": {},
   "outputs": [
    {
     "name": "stdout",
     "output_type": "stream",
     "text": [
      "['Watching_Movies', 'Playing_cricket', 'learning_new_things', 'making_time_for_close_ones', 'Playing Volleyball']\n"
     ]
    }
   ],
   "source": [
    "Hobbies.append('Playing Volleyball')\n",
    "print (Hobbies)"
   ]
  },
  {
   "cell_type": "code",
   "execution_count": 6,
   "metadata": {},
   "outputs": [
    {
     "name": "stdout",
     "output_type": "stream",
     "text": [
      "['Watching_Movies', 'Playing_cricket', 'learning_new_things', 'Playing Chess', 'making_time_for_close_ones', 'Playing Volleyball']\n"
     ]
    }
   ],
   "source": [
    "Hobbies.insert(3,'Playing Chess')\n",
    "print (Hobbies)"
   ]
  },
  {
   "cell_type": "code",
   "execution_count": 7,
   "metadata": {},
   "outputs": [
    {
     "name": "stdout",
     "output_type": "stream",
     "text": [
      "['Biking', 'Playing_cricket', 'learning_new_things', 'Playing Chess', 'making_time_for_close_ones', 'Playing Volleyball']\n"
     ]
    }
   ],
   "source": [
    "Hobbies[0] = 'Biking'\n",
    "print (Hobbies)"
   ]
  },
  {
   "cell_type": "code",
   "execution_count": 8,
   "metadata": {},
   "outputs": [
    {
     "name": "stdout",
     "output_type": "stream",
     "text": [
      "['Biking', 'Playing_cricket', 'learning_new_things', 'Playing Chess', 'making_time_for_close_ones']\n"
     ]
    }
   ],
   "source": [
    "del Hobbies[5]\n",
    "print (Hobbies)"
   ]
  },
  {
   "cell_type": "code",
   "execution_count": null,
   "metadata": {},
   "outputs": [],
   "source": []
  }
 ],
 "metadata": {
  "kernelspec": {
   "display_name": "Python 3",
   "language": "python",
   "name": "python3"
  },
  "language_info": {
   "codemirror_mode": {
    "name": "ipython",
    "version": 3
   },
   "file_extension": ".py",
   "mimetype": "text/x-python",
   "name": "python",
   "nbconvert_exporter": "python",
   "pygments_lexer": "ipython3",
   "version": "3.8.5"
  }
 },
 "nbformat": 4,
 "nbformat_minor": 4
}
