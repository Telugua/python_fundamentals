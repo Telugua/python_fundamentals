{
 "cells": [
  {
   "cell_type": "code",
   "execution_count": 1,
   "metadata": {},
   "outputs": [
    {
     "name": "stdout",
     "output_type": "stream",
     "text": [
      "['apple', 'nokia', 'moto', 'samsung', 'redmi']\n"
     ]
    }
   ],
   "source": [
    "mobiles = ['apple', 'nokia', 'moto', 'samsung', 'redmi']\n",
    "print (mobiles)"
   ]
  },
  {
   "cell_type": "code",
   "execution_count": 2,
   "metadata": {},
   "outputs": [
    {
     "name": "stdout",
     "output_type": "stream",
     "text": [
      "apple\n",
      "nokia\n",
      "moto\n",
      "SAMSUNG\n",
      "redmi\n"
     ]
    }
   ],
   "source": [
    "for x in mobiles:\n",
    "    if x == 'samsung':\n",
    "        print (x.upper())\n",
    "    else:\n",
    "        print (x)"
   ]
  },
  {
   "cell_type": "code",
   "execution_count": 3,
   "metadata": {},
   "outputs": [
    {
     "name": "stdout",
     "output_type": "stream",
     "text": [
      "Apple\n",
      "Nokia\n",
      "Moto\n",
      "SAMSUNG\n",
      "Redmi\n"
     ]
    }
   ],
   "source": [
    "for x in mobiles:\n",
    "    if x == 'samsung':\n",
    "        print (x.upper())\n",
    "    else:\n",
    "        print (x.title())"
   ]
  },
  {
   "cell_type": "code",
   "execution_count": null,
   "metadata": {},
   "outputs": [],
   "source": [
    "age = 25"
   ]
  },
  {
   "cell_type": "code",
   "execution_count": 9,
   "metadata": {},
   "outputs": [
    {
     "name": "stdout",
     "output_type": "stream",
     "text": [
      "You are young\n"
     ]
    }
   ],
   "source": [
    "age = 25\n",
    "if age <=25:\n",
    "    print (\"You are young\")\n",
    "else:\n",
    "    print (\"You are Adult\")"
   ]
  },
  {
   "cell_type": "code",
   "execution_count": 11,
   "metadata": {},
   "outputs": [
    {
     "name": "stdout",
     "output_type": "stream",
     "text": [
      "You are Adult\n"
     ]
    }
   ],
   "source": [
    "age = 25\n",
    "if age < 25:\n",
    "    print (\"You are young\")\n",
    "elif age == 25:\n",
    "    print (\"You are Adult\")\n",
    "else:\n",
    "    print (\"You are Old\")"
   ]
  },
  {
   "cell_type": "code",
   "execution_count": 12,
   "metadata": {},
   "outputs": [
    {
     "name": "stdout",
     "output_type": "stream",
     "text": [
      "You are Old\n"
     ]
    }
   ],
   "source": [
    "age = 29\n",
    "if age < 25:\n",
    "    print (\"You are young\")\n",
    "elif age == 25:\n",
    "    print (\"You are Adult\")\n",
    "else:\n",
    "    print (\"You are Old\")"
   ]
  },
  {
   "cell_type": "code",
   "execution_count": 14,
   "metadata": {},
   "outputs": [
    {
     "name": "stdout",
     "output_type": "stream",
     "text": [
      "What is your firstname? Abhishek\n",
      "Hello Abhishek\n"
     ]
    }
   ],
   "source": [
    "message = input (f\"What is your firstname? \")\n",
    "\n",
    "print (f\"Hello {message}\")"
   ]
  },
  {
   "cell_type": "code",
   "execution_count": 16,
   "metadata": {},
   "outputs": [
    {
     "name": "stdout",
     "output_type": "stream",
     "text": [
      "What is your firstname? abhi\n",
      "What is your lastname? TELUGU\n",
      "Hello, ABHI telugu\n"
     ]
    }
   ],
   "source": [
    "message1 = input (f\"What is your firstname? \")\n",
    "message2 = input (f\"What is your lastname? \")\n",
    "\n",
    "print (f\"Hello, {message1.upper()} {message2.lower()}\")"
   ]
  },
  {
   "cell_type": "code",
   "execution_count": 17,
   "metadata": {},
   "outputs": [
    {
     "name": "stdout",
     "output_type": "stream",
     "text": [
      "What is your firstname? abhi\n",
      "What is your lastname? nandan\n",
      "Hello, ABHI nandan\n",
      "How are you? fine\n",
      "Awesome, to hear that\n"
     ]
    }
   ],
   "source": [
    "message1 = input (f\"What is your firstname? \")\n",
    "message2 = input (f\"What is your lastname? \")\n",
    "\n",
    "print (f\"Hello, {message1.title()} {message2.title()}\")\n",
    "\n",
    "message3 = input (f\"How are you? \")\n",
    "\n",
    "if message3 == 'fine':\n",
    "    print ('Awesome, to hear that')\n",
    "else:\n",
    "    print ('I wish you to be great')"
   ]
  },
  {
   "cell_type": "code",
   "execution_count": null,
   "metadata": {},
   "outputs": [],
   "source": []
  },
  {
   "cell_type": "code",
   "execution_count": 18,
   "metadata": {},
   "outputs": [
    {
     "name": "stdout",
     "output_type": "stream",
     "text": [
      "What is your firstname? Abhishek\n",
      "What is your lastname? telugu\n",
      "Hello, Abhishek Telugu\n",
      "How are you? not that good\n",
      "I wish you to be great\n"
     ]
    }
   ],
   "source": [
    "message1 = input (f\"What is your firstname? \")\n",
    "message2 = input (f\"What is your lastname? \")\n",
    "\n",
    "print (f\"Hello, {message1.title()} {message2.title()}\")\n",
    "\n",
    "message3 = input (f\"How are you? \")\n",
    "\n",
    "if message3 == 'fine':\n",
    "    print ('Awesome, to hear that')\n",
    "else:\n",
    "    print ('I wish you to be great')"
   ]
  },
  {
   "cell_type": "code",
   "execution_count": null,
   "metadata": {},
   "outputs": [],
   "source": []
  }
 ],
 "metadata": {
  "kernelspec": {
   "display_name": "Python 3",
   "language": "python",
   "name": "python3"
  },
  "language_info": {
   "codemirror_mode": {
    "name": "ipython",
    "version": 3
   },
   "file_extension": ".py",
   "mimetype": "text/x-python",
   "name": "python",
   "nbconvert_exporter": "python",
   "pygments_lexer": "ipython3",
   "version": "3.8.5"
  }
 },
 "nbformat": 4,
 "nbformat_minor": 4
}
