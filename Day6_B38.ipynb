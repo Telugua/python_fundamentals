{
 "cells": [
  {
   "cell_type": "code",
   "execution_count": 5,
   "metadata": {},
   "outputs": [
    {
     "name": "stdout",
     "output_type": "stream",
     "text": [
      "['hero', 'honda', 'suzuki', 'bnajaj', 'tvs']\n"
     ]
    }
   ],
   "source": [
    "Bikes = ['hero','honda','suzuki','bnajaj','tvs']\n",
    "print (Bikes)"
   ]
  },
  {
   "cell_type": "code",
   "execution_count": 3,
   "metadata": {},
   "outputs": [
    {
     "name": "stdout",
     "output_type": "stream",
     "text": [
      "I like the bikes of Honda\n"
     ]
    }
   ],
   "source": [
    "print (f\"I like the bikes of {Bikes[1].title()}\")"
   ]
  },
  {
   "cell_type": "code",
   "execution_count": 4,
   "metadata": {},
   "outputs": [
    {
     "name": "stdout",
     "output_type": "stream",
     "text": [
      "Hero bikes cost less when compared to Honda\n"
     ]
    }
   ],
   "source": [
    "print (f\"{Bikes[0].title()} bikes cost less when compared to {Bikes[1].title()}\")"
   ]
  },
  {
   "cell_type": "code",
   "execution_count": 8,
   "metadata": {},
   "outputs": [
    {
     "name": "stdout",
     "output_type": "stream",
     "text": [
      "Most selling scooter is from TVS \n"
     ]
    }
   ],
   "source": [
    "print (f\"Most selling scooter is from {Bikes[4].upper()} \")"
   ]
  },
  {
   "cell_type": "code",
   "execution_count": 10,
   "metadata": {},
   "outputs": [
    {
     "name": "stdout",
     "output_type": "stream",
     "text": [
      "I like Hero bikes\n",
      "I like Honda bikes\n",
      "I like Suzuki bikes\n",
      "I like Bnajaj bikes\n",
      "I like Tvs bikes\n"
     ]
    }
   ],
   "source": [
    "for x in Bikes:\n",
    "    print (f\"I like {x.title()} bikes\")"
   ]
  },
  {
   "cell_type": "code",
   "execution_count": 11,
   "metadata": {},
   "outputs": [
    {
     "name": "stdout",
     "output_type": "stream",
     "text": [
      "I like Hero bikes\n",
      "Hero gives good look to rider\n",
      "I like Honda bikes\n",
      "Honda gives good look to rider\n",
      "I like Suzuki bikes\n",
      "Suzuki gives good look to rider\n",
      "I like Bnajaj bikes\n",
      "Bnajaj gives good look to rider\n",
      "I like Tvs bikes\n",
      "Tvs gives good look to rider\n"
     ]
    }
   ],
   "source": [
    "for x in Bikes:\n",
    "    print (f\"I like {x.title()} bikes\")\n",
    "    print (f\"{x.title()} gives good look to rider\")"
   ]
  },
  {
   "cell_type": "code",
   "execution_count": 12,
   "metadata": {},
   "outputs": [
    {
     "name": "stdout",
     "output_type": "stream",
     "text": [
      "I like Hero bikes\n",
      "Hero gives good look to rider\n",
      "\n",
      "I like Honda bikes\n",
      "Honda gives good look to rider\n",
      "\n",
      "I like Suzuki bikes\n",
      "Suzuki gives good look to rider\n",
      "\n",
      "I like Bnajaj bikes\n",
      "Bnajaj gives good look to rider\n",
      "\n",
      "I like Tvs bikes\n",
      "Tvs gives good look to rider\n",
      "\n"
     ]
    }
   ],
   "source": [
    "for x in Bikes:\n",
    "    print (f\"I like {x.title()} bikes\")\n",
    "    print (f\"{x.title()} gives good look to rider\\n\")"
   ]
  },
  {
   "cell_type": "code",
   "execution_count": null,
   "metadata": {},
   "outputs": [],
   "source": []
  }
 ],
 "metadata": {
  "kernelspec": {
   "display_name": "Python 3",
   "language": "python",
   "name": "python3"
  },
  "language_info": {
   "codemirror_mode": {
    "name": "ipython",
    "version": 3
   },
   "file_extension": ".py",
   "mimetype": "text/x-python",
   "name": "python",
   "nbconvert_exporter": "python",
   "pygments_lexer": "ipython3",
   "version": "3.8.5"
  }
 },
 "nbformat": 4,
 "nbformat_minor": 4
}
