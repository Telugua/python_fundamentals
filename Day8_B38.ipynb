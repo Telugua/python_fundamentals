{
 "cells": [
  {
   "cell_type": "code",
   "execution_count": 1,
   "metadata": {},
   "outputs": [
    {
     "name": "stdout",
     "output_type": "stream",
     "text": [
      "{'f_name': 'Abhishek', 'l_name': 'Telugu', 'age': 25}\n"
     ]
    }
   ],
   "source": [
    "details = {'f_name':'Abhishek', 'l_name':'Telugu', 'age':25}\n",
    "print (details)"
   ]
  },
  {
   "cell_type": "code",
   "execution_count": 2,
   "metadata": {},
   "outputs": [],
   "source": [
    "details ['country'] = 'india'"
   ]
  },
  {
   "cell_type": "code",
   "execution_count": 3,
   "metadata": {},
   "outputs": [
    {
     "name": "stdout",
     "output_type": "stream",
     "text": [
      "{'f_name': 'Abhishek', 'l_name': 'Telugu', 'age': 25, 'country': 'india'}\n"
     ]
    }
   ],
   "source": [
    "print (details)"
   ]
  },
  {
   "cell_type": "code",
   "execution_count": 4,
   "metadata": {},
   "outputs": [],
   "source": [
    "details ['l_name'] = 'telugu'"
   ]
  },
  {
   "cell_type": "code",
   "execution_count": 5,
   "metadata": {},
   "outputs": [
    {
     "name": "stdout",
     "output_type": "stream",
     "text": [
      "{'f_name': 'Abhishek', 'l_name': 'telugu', 'age': 25, 'country': 'india'}\n"
     ]
    }
   ],
   "source": [
    "print (details)"
   ]
  },
  {
   "cell_type": "code",
   "execution_count": 7,
   "metadata": {},
   "outputs": [],
   "source": [
    "del details ['country']"
   ]
  },
  {
   "cell_type": "code",
   "execution_count": 8,
   "metadata": {},
   "outputs": [
    {
     "name": "stdout",
     "output_type": "stream",
     "text": [
      "{'f_name': 'Abhishek', 'l_name': 'telugu', 'age': 25}\n"
     ]
    }
   ],
   "source": [
    "print (details)"
   ]
  },
  {
   "cell_type": "code",
   "execution_count": 20,
   "metadata": {},
   "outputs": [
    {
     "name": "stdout",
     "output_type": "stream",
     "text": [
      "f_name\n",
      "Abhishek\n",
      "l_name\n",
      "telugu\n",
      "age\n",
      "25\n"
     ]
    }
   ],
   "source": [
    "for x,y in details.items():\n",
    "    print (x)\n",
    "    print (y)"
   ]
  },
  {
   "cell_type": "code",
   "execution_count": 23,
   "metadata": {},
   "outputs": [
    {
     "name": "stdout",
     "output_type": "stream",
     "text": [
      "key - f_name\n",
      "value - Abhishek\n",
      "\n",
      "key - l_name\n",
      "value - telugu\n",
      "\n",
      "key - age\n",
      "value - 25\n",
      "\n"
     ]
    }
   ],
   "source": [
    "for x,y in details.items():\n",
    "    print (f\"key - {x}\")\n",
    "    print (f\"value - {y}\\n\")"
   ]
  },
  {
   "cell_type": "code",
   "execution_count": 24,
   "metadata": {},
   "outputs": [
    {
     "name": "stdout",
     "output_type": "stream",
     "text": [
      "f_name\n",
      "l_name\n",
      "age\n"
     ]
    }
   ],
   "source": [
    "for x in details.keys():\n",
    "    print (x)"
   ]
  },
  {
   "cell_type": "code",
   "execution_count": 25,
   "metadata": {},
   "outputs": [
    {
     "name": "stdout",
     "output_type": "stream",
     "text": [
      "Abhishek\n",
      "telugu\n",
      "25\n"
     ]
    }
   ],
   "source": [
    "for x in details.values():\n",
    "    print (x)"
   ]
  },
  {
   "cell_type": "code",
   "execution_count": null,
   "metadata": {},
   "outputs": [],
   "source": []
  }
 ],
 "metadata": {
  "kernelspec": {
   "display_name": "Python 3",
   "language": "python",
   "name": "python3"
  },
  "language_info": {
   "codemirror_mode": {
    "name": "ipython",
    "version": 3
   },
   "file_extension": ".py",
   "mimetype": "text/x-python",
   "name": "python",
   "nbconvert_exporter": "python",
   "pygments_lexer": "ipython3",
   "version": "3.8.5"
  }
 },
 "nbformat": 4,
 "nbformat_minor": 4
}
